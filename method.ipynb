{
 "cells": [
  {
   "cell_type": "markdown",
   "id": "c45ecc7a-e65e-4116-8528-03063caf20a5",
   "metadata": {},
   "source": [
    "# 学習したメソッドまとめ"
   ]
  },
  {
   "cell_type": "markdown",
   "id": "ecff17e8-b472-4b7e-a792-0aee1e854784",
   "metadata": {},
   "source": [
    "後々メソッドを作る際の考え方の参考にするため学習したシミュレーション手法やメソッドなどをまとめておく"
   ]
  },
  {
   "cell_type": "code",
   "execution_count": 4,
   "id": "876001aa-8d20-4862-acf9-9bf076dfcffa",
   "metadata": {},
   "outputs": [],
   "source": [
    "#各ライブラリインポート\n",
    "import numpy as np\n",
    "import pandas as pd\n",
    "import matplotlib.pyplot as plt\n",
    "import seaborn as sns"
   ]
  },
  {
   "cell_type": "markdown",
   "id": "43683f01-76ef-474a-9fb9-eaffdae6112a",
   "metadata": {},
   "source": [
    "#### 1.目標来場者達成までの日数を求めるシミュレーション"
   ]
  },
  {
   "cell_type": "code",
   "execution_count": 6,
   "id": "58dc7399-de43-4c46-9820-97eb5b689929",
   "metadata": {},
   "outputs": [
    {
     "data": {
      "text/plain": [
       "'\\n#ポアソン分布ではなく正規分布に従う場合\\ndef simulation_day_over_t(threshold : int, loc_n : float, scale_n : float) ->int:\\n\\n    day=0\\n    total_customers=0\\n    while total_customers<=threshold:\\n        day += 1 #日数をカウント\\n        n_customer_each_day = np.random.normal(loc=loc_n,\\n                                               scale=scale_n,\\n                                               size=1) #1日のお客さんの数\\n        total_customers+=n_customer_each_day #これまでのお客さんの数\\n    return day\\n'"
      ]
     },
     "execution_count": 6,
     "metadata": {},
     "output_type": "execute_result"
    }
   ],
   "source": [
    "#来場者の合計が目標人数を超えるまでの日数をシミュレーションするメソッド\n",
    "def simulation_day_over_t(threshold : int, lam_n : float) ->int:\n",
    "    \"\"\"\n",
    "    決められた人数を超える日数をシミュレーションするメソッド\n",
    "    -threshold:何人以上を超える来場者数になる日数をシミュレーションするか？\n",
    "    -lam：Poisson分布の期待値、１日あたりの期待来客数\n",
    "    \"\"\"\n",
    "    \n",
    "    day=0\n",
    "    total_customers=0\n",
    "    while total_customers<=threshold:\n",
    "        day += 1 #日数をカウント\n",
    "        n_customer_each_day = np.random.poisson(lam=lam_n,size=1) #1日のお客さんの数\n",
    "        total_customers+=n_customer_each_day #これまでのお客さんの数\n",
    "        \n",
    "    return day\n",
    "\n",
    "\"\"\"\n",
    "#ポアソン分布ではなく正規分布に従う場合\n",
    "def simulation_day_over_t(threshold : int, loc_n : float, scale_n : float) ->int:\n",
    "\n",
    "    day=0\n",
    "    total_customers=0\n",
    "    while total_customers<=threshold:\n",
    "        day += 1 #日数をカウント\n",
    "        n_customer_each_day = np.random.normal(loc=loc_n,\n",
    "                                               scale=scale_n,\n",
    "                                               size=1) #1日のお客さんの数\n",
    "        total_customers+=n_customer_each_day #これまでのお客さんの数\n",
    "    return day\n",
    "\"\"\""
   ]
  },
  {
   "cell_type": "code",
   "execution_count": 15,
   "id": "48711903-fa78-4c1e-8c91-8d332693d2af",
   "metadata": {},
   "outputs": [
    {
     "data": {
      "image/png": "[encoded data removed]",
      "text/plain": [
       "<Figure size 432x288 with 1 Axes>"
      ]
     },
     "metadata": {
      "needs_background": "light"
     },
     "output_type": "display_data"
    }
   ],
   "source": [
    "# simulation_day_over_tを10000回繰り返した結果をリストにする\n",
    "N_TER=10000\n",
    "result=[simulation_day_over_t(threshold=10000,lam_n=200.0) for i in range(N_ITER)]\n",
    "#棒グラフで結果を可視化\n",
    "days,cnt=np.unique(result, return_counts=True)\n",
    "plt.bar([str(i) for i in days], cnt)\n",
    "plt.show()"
   ]
  },
  {
   "cell_type": "markdown",
   "id": "b923347d-ce0e-453b-9009-1091e67823b8",
   "metadata": {},
   "source": [
    "#### レジの待ち時間推定シミュレーション"
   ]
  },
  {
   "cell_type": "code",
   "execution_count": 17,
   "id": "b9e648c0-0ac3-4c0c-a96b-a2a021df3647",
   "metadata": {},
   "outputs": [],
   "source": [
    "#レジの個数、客数よりレジの待ち時間を推定するシミュレーション\n",
    "#最後の客がレジを終えるまでの時間を求めるメソッド\n",
    "#待ち時間は指数分布に従うものと仮定\n",
    "def simulation_waiting_time(lam, n_customers, n_regis):\n",
    "    \"\"\"\n",
    "    lam：一人あたりの待ち時間の平均\n",
    "    n_customers ： 並んでいる客数\n",
    "    n_regis : レジ数\n",
    "    \"\"\"\n",
    "    #各レジに一人ずつ配置\n",
    "    regi=np.random.exponential(scale=1/lam, size=n_regis)\n",
    "    \n",
    "    #各レジで捌けた箇所に次の客が行く、それを繰り返す\n",
    "    for i in range(n_customers-n_regis):\n",
    "        next_regi_id=regi.argmin()\n",
    "        regi[next_regi_id] += np.random.exponential(scale=1/lam, size=1)\n",
    "    return regi\n",
    "    "
   ]
  },
  {
   "cell_type": "code",
   "execution_count": 18,
   "id": "fe109ab1-7f21-4252-b787-b0297b6ad4d5",
   "metadata": {},
   "outputs": [
    {
     "data": {
      "image/png": "[encoded data removed]",
      "text/plain": [
       "<Figure size 432x288 with 1 Axes>"
      ]
     },
     "metadata": {
      "needs_background": "light"
     },
     "output_type": "display_data"
    }
   ],
   "source": [
    "#シミュレーションを10000回繰り返して、レジの終了時間を調べる\n",
    "N_ITER = 10000\n",
    "result = [simulation_waiting_time(lam=1.0,\n",
    "                                n_customers=10,\n",
    "                                n_regis=3).max() for i in range(N_ITER)]\n",
    "#予想される時間の分布\n",
    "plt.hist(result,bins=20)\n",
    "plt.show()"
   ]
  },
  {
   "cell_type": "code",
   "execution_count": null,
   "id": "a6702149-b29e-49af-80e3-75a41fdc7445",
   "metadata": {},
   "outputs": [],
   "source": []
  }
 ],
 "metadata": {
  "kernelspec": {
   "display_name": "Python 3 (ipykernel)",
   "language": "python",
   "name": "python3"
  },
  "language_info": {
   "codemirror_mode": {
    "name": "ipython",
    "version": 3
   },
   "file_extension": ".py",
   "mimetype": "text/x-python",
   "name": "python",
   "nbconvert_exporter": "python",
   "pygments_lexer": "ipython3",
   "version": "3.9.12"
  }
 },
 "nbformat": 4,
 "nbformat_minor": 5
}
